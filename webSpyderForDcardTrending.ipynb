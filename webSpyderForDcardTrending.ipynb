{
 "cells": [
  {
   "cell_type": "markdown",
   "metadata": {},
   "source": [
    "<h1>Dcard時事版爬蟲</h1>\n",
    "<h2>載入模組</h2>\n",
    "<ul>\n",
    "    <li>requests：建立各種 HTTP 請求，從網頁伺服器上取得想要的資料</li>\n",
    "    <li>json：由於目前普遍許多的api傳過來是json格式，而dcard也不例外，所以也需要這個模組來幫忙處理</li>\n",
    "    <li>csv：讀取完網頁傳過來的json資料之後，要寫入csv檔案裡</li>\n",
    "</ul>"
   ]
  },
  {
   "cell_type": "code",
   "execution_count": 9,
   "metadata": {},
   "outputs": [],
   "source": [
    "import requests\n",
    "import json\n",
    "import csv"
   ]
  },
  {
   "cell_type": "markdown",
   "metadata": {},
   "source": [
    "<h2>設定需要的資訊</h2>\n",
    "<p>呼叫api所需要的網址字串串接</p>\n",
    "<h2>api資訊</h2>\n",
    "<ul>\n",
    "<li>看板資訊(meta)\thttps://www.dcard.tw/_api/forums</li>\n",
    "<li>文章資訊(meta)\thttps://www.dcard.tw/_api/forums/{看板名稱}/posts</li>\n",
    "<li>文章內文\thttps://www.dcard.tw/_api/posts/{文章編號}</li>\n",
    "<li>文章內引用連結\thttps://www.dcard.tw/_api/{文章編號}/links</li>\n",
    "<li>文章內留言\thttps://www.dcard.tw/_api/posts/{文章編號}/comments</li>\n",
    "</ul>"
   ]
  },
  {
   "cell_type": "code",
   "execution_count": 10,
   "metadata": {},
   "outputs": [],
   "source": [
    "dcardRootUrl = 'https://www.dcard.tw/_api/'#dcard的API root URL\n",
    "forumsMode = 'forums/'#看板資訊\n",
    "alias = 'trending/'#時事版\n",
    "postsMode = 'posts/'#文章資訊\n",
    "commentsMode = 'comments'#留言資訊"
   ]
  },
  {
   "cell_type": "markdown",
   "metadata": {},
   "source": [
    "<p>每一篇文章都有其對應的id，越新的文章id數值是越大的，因為我們要找的文章範圍是在2018年1月到2019年5月，有測試過個別對應的id值是多少</p>"
   ]
  },
  {
   "cell_type": "code",
   "execution_count": 11,
   "metadata": {},
   "outputs": [],
   "source": [
    "firstArticleID = 228016514#2018年1月的第一篇文章\n",
    "lastArticleID = 231403545#2019年5月的最後一篇文章"
   ]
  },
  {
   "cell_type": "markdown",
   "metadata": {},
   "source": [
    "<p>目前所爬到的文章id</p>"
   ]
  },
  {
   "cell_type": "code",
   "execution_count": 12,
   "metadata": {},
   "outputs": [],
   "source": [
    "articleID = 231285499"
   ]
  },
  {
   "cell_type": "markdown",
   "metadata": {},
   "source": [
    "<ul>\n",
    "    <li>ForumUrl：時事版的資訊總覽，<code>popular=false</code>為以最新建立的貼文為排序，反則是以熱門程度為排序。<code>before=</code>後面則是輸入文章id值，網頁會回傳這則文章(不包含)的前30則貼文</li>\n",
    "    <li>PostsUrl：直接指定要看哪一則貼文，有內容全文以及留言的資訊</li>\n",
    "</ul>"
   ]
  },
  {
   "cell_type": "code",
   "execution_count": 13,
   "metadata": {},
   "outputs": [],
   "source": [
    "ForumUrl = dcardRootUrl + forumsMode + alias + 'posts?popular=false&before='\n",
    "PostsUrl = dcardRootUrl + postsMode"
   ]
  },
  {
   "cell_type": "markdown",
   "metadata": {},
   "source": [
    "<h2>抓取資訊</h2>\n",
    "<h3>使用到的方法</h3>\n",
    "<p>取得時事版的資訊總覽</p>"
   ]
  },
  {
   "cell_type": "code",
   "execution_count": 14,
   "metadata": {},
   "outputs": [],
   "source": [
    "def getForums():\n",
    "    res = requests.get(ForumUrl + str(articleID))\n",
    "    return json.loads(res.text)"
   ]
  },
  {
   "cell_type": "markdown",
   "metadata": {},
   "source": [
    "<p>取得文章內容</p>"
   ]
  },
  {
   "cell_type": "code",
   "execution_count": 15,
   "metadata": {},
   "outputs": [],
   "source": [
    "def getArticleContent():\n",
    "    res = requests.get(PostsUrl + str(articleID))\n",
    "    return json.loads(res.text)['content']"
   ]
  },
  {
   "cell_type": "markdown",
   "metadata": {},
   "source": [
    "<p>取得該文章的所有留言並存進陣列</p>"
   ]
  },
  {
   "cell_type": "code",
   "execution_count": 16,
   "metadata": {},
   "outputs": [],
   "source": [
    "def getComments():\n",
    "    res = requests.get(PostsUrl + str(articleID) + '/' + commentsMode)\n",
    "    resDict = json.loads(res.text)\n",
    "    return [(resDict[index]['content'] if 'content' in resDict[index] else '') for index in range(0, len(resDict))]"
   ]
  },
  {
   "cell_type": "markdown",
   "metadata": {},
   "source": [
    "<h3>使用方法請求資源並寫入csv</h3>"
   ]
  },
  {
   "cell_type": "code",
   "execution_count": null,
   "metadata": {},
   "outputs": [],
   "source": [
    "with open('output.csv', 'w', newline='', encoding='utf-8-sig') as csvfile:\n",
    "    writer = csv.writer(csvfile, delimiter=',')\n",
    "    writer.writerow(['文章建立時間', '標題', '內文', '留言'])\n",
    "    while articleID > firstArticleID:\n",
    "        for article in getForums():\n",
    "            createTime = article['createdAt']\n",
    "            title = article['title']\n",
    "            articleID = article['id']\n",
    "            print(str(articleID) + ' ' + str(createTime) + ':' + title)#測試用\n",
    "            writer.writerow([createTime, title, getArticleContent(), getComments()])\n",
    "    csvfile.close()"
   ]
  }
 ],
 "metadata": {
  "kernelspec": {
   "display_name": "Python 3",
   "language": "python",
   "name": "python3"
  },
  "language_info": {
   "codemirror_mode": {
    "name": "ipython",
    "version": 3
   },
   "file_extension": ".py",
   "mimetype": "text/x-python",
   "name": "python",
   "nbconvert_exporter": "python",
   "pygments_lexer": "ipython3",
   "version": "3.7.0"
  }
 },
 "nbformat": 4,
 "nbformat_minor": 2
}
